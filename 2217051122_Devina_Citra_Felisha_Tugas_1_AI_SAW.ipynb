{
  "nbformat": 4,
  "nbformat_minor": 0,
  "metadata": {
    "colab": {
      "provenance": [],
      "authorship_tag": "ABX9TyMAATVsRbhVdJpXU64JdsFL"
    },
    "kernelspec": {
      "name": "python3",
      "display_name": "Python 3"
    },
    "language_info": {
      "name": "python"
    }
  },
  "cells": [
    {
      "cell_type": "code",
      "execution_count": null,
      "metadata": {
        "id": "Yp4Q9y_vXghe"
      },
      "outputs": [],
      "source": [
        "import numpy as np"
      ]
    },
    {
      "cell_type": "markdown",
      "source": [
        "Sebuah toko elektronik ingin menentukan smartphone terbaik untuk direkomendasikan kepada pelanggan berdasarkan empat kriteria dan dengan bobot sebagai berikut :\n",
        "\n",
        "\n",
        "*   Harga (C1) : 0.3 (lebih rendah lebih baik)\n",
        "*   Kamera (C2) : 0.3\n",
        "*   Baterai (C3) : 0.2\n",
        "*   Penyimpanan (C4) : 0.2\n",
        "\n",
        "\n",
        "\n",
        "\n"
      ],
      "metadata": {
        "id": "2_fxxGTRdf0e"
      }
    },
    {
      "cell_type": "markdown",
      "source": [
        "Matriks keputusan yang mencerminkan penilaian smartphone adalah:\n",
        "\n",
        "|     | C1  | C2 | C3 | C4 |\n",
        "|-----|-----|----|----|----|\n",
        "| S1  | 700 | 8  | 4000 | 64  |\n",
        "| S2  | 600 | 7  | 4500 | 128 |\n",
        "| S3  | 800 | 9  | 4200 | 256 |\n",
        "| S4  | 750 | 8  | 4300 | 128 |\n"
      ],
      "metadata": {
        "id": "_wTGsHdlXr_A"
      }
    },
    {
      "cell_type": "code",
      "source": [
        "# Matriks keputusan (Smartphone x Kriteria)\n",
        "matrix_keputusan = np.array([\n",
        "    [700, 8, 4000, 64],    # S1\n",
        "    [600, 7, 4500, 128],   # S2\n",
        "    [800, 9, 4200, 256],   # S3\n",
        "    [750, 8, 4300, 128]    # S4\n",
        "])"
      ],
      "metadata": {
        "id": "ZUTB3drzXmhg"
      },
      "execution_count": null,
      "outputs": []
    },
    {
      "cell_type": "code",
      "source": [
        "# Bobot kriteria\n",
        "bobot = np.array([0.3, 0.3, 0.2, 0.2])"
      ],
      "metadata": {
        "id": "PPCaSY4kXtmr"
      },
      "execution_count": null,
      "outputs": []
    },
    {
      "cell_type": "code",
      "source": [
        "# Normalisasi matriks keputusan\n",
        "def normalize_matrix(matrix):\n",
        "    benefit = matrix.max(axis=0)\n",
        "    cost = matrix.min(axis=0)\n",
        "\n",
        "    # Normalisasi\n",
        "    norm_matrix = np.zeros(matrix.shape)\n",
        "    for i in range(matrix.shape[1]):\n",
        "        if i == 0:\n",
        "            norm_matrix[:, i] = cost[i] / matrix[:, i]\n",
        "        else:\n",
        "            norm_matrix[:, i] = matrix[:, i] / benefit[i]\n",
        "    return norm_matrix"
      ],
      "metadata": {
        "id": "Li6TANmTXwPT"
      },
      "execution_count": null,
      "outputs": []
    },
    {
      "cell_type": "code",
      "source": [
        "matrix_normalisasi = normalize_matrix(matrix_keputusan)"
      ],
      "metadata": {
        "id": "ZOjviVS2Xyls"
      },
      "execution_count": null,
      "outputs": []
    },
    {
      "cell_type": "code",
      "source": [
        "# Menghitung nilai preferensi untuk setiap smartphone\n",
        "nilai_preferensi = matrix_normalisasi @ bobot"
      ],
      "metadata": {
        "id": "kuC2tQfEX0kL"
      },
      "execution_count": null,
      "outputs": []
    },
    {
      "cell_type": "code",
      "source": [
        "# Menentukan peringkat smartphone\n",
        "peringkat = np.argsort(-nilai_preferensi)  # Mengurutkan dari nilai tertinggi ke terendah"
      ],
      "metadata": {
        "id": "1u3yy3BDX2pT"
      },
      "execution_count": null,
      "outputs": []
    },
    {
      "cell_type": "code",
      "source": [
        "print(\"Matriks Keputusan yang dinormalisasi:\")\n",
        "print(matrix_normalisasi)"
      ],
      "metadata": {
        "colab": {
          "base_uri": "https://localhost:8080/"
        },
        "id": "h_MmzJusX6z7",
        "outputId": "0b5fe442-6d35-48cc-dc01-cc9430162bd9"
      },
      "execution_count": null,
      "outputs": [
        {
          "output_type": "stream",
          "name": "stdout",
          "text": [
            "Matriks Keputusan yang dinormalisasi:\n",
            "[[0.85714286 0.88888889 0.88888889 0.25      ]\n",
            " [1.         0.77777778 1.         0.5       ]\n",
            " [0.75       1.         0.93333333 1.        ]\n",
            " [0.8        0.88888889 0.95555556 0.5       ]]\n"
          ]
        }
      ]
    },
    {
      "cell_type": "code",
      "source": [
        "print(\"\\nNilai Preferensi setiap smartphone:\")\n",
        "print(nilai_preferensi)"
      ],
      "metadata": {
        "colab": {
          "base_uri": "https://localhost:8080/"
        },
        "id": "HOpQ1UhdX_Rl",
        "outputId": "317bc507-e917-4149-993c-5005c20f0405"
      },
      "execution_count": null,
      "outputs": [
        {
          "output_type": "stream",
          "name": "stdout",
          "text": [
            "\n",
            "Nilai Preferensi setiap smartphone:\n",
            "[0.7515873  0.83333333 0.91166667 0.79777778]\n"
          ]
        }
      ]
    },
    {
      "cell_type": "code",
      "source": [
        "print(\"\\nPeringkat Smartphone (dari terbaik ke terburuk):\")\n",
        "print(peringkat + 1)"
      ],
      "metadata": {
        "colab": {
          "base_uri": "https://localhost:8080/"
        },
        "id": "5dRr2-IWYBQ_",
        "outputId": "71987030-9e3a-4ea0-c17f-a8044e5a9ae5"
      },
      "execution_count": null,
      "outputs": [
        {
          "output_type": "stream",
          "name": "stdout",
          "text": [
            "\n",
            "Peringkat Smartphone (dari terbaik ke terburuk):\n",
            "[3 2 4 1]\n"
          ]
        }
      ]
    },
    {
      "cell_type": "markdown",
      "source": [
        "Dari hasil perhitungan di atas, smartphone S3 memiliki nilai preferensi tertinggi, diikuti oleh S2, S4, dan kemudian S1."
      ],
      "metadata": {
        "id": "qFTi6q33eNJx"
      }
    }
  ]
}