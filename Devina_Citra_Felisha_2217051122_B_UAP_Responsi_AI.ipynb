{
  "nbformat": 4,
  "nbformat_minor": 0,
  "metadata": {
    "colab": {
      "provenance": [],
      "authorship_tag": "ABX9TyNAToBCGorSy18WgAXWE+mV"
    },
    "kernelspec": {
      "name": "python3",
      "display_name": "Python 3"
    },
    "language_info": {
      "name": "python"
    }
  },
  "cells": [
    {
      "cell_type": "code",
      "execution_count": null,
      "metadata": {
        "id": "QUxy38TMj87H"
      },
      "outputs": [],
      "source": [
        "import numpy as np"
      ]
    },
    {
      "cell_type": "markdown",
      "source": [
        "Dalam memilih universitas terbaik (Harvard, Stanford, Oxford, Yale), siswa kelas 12 mempertimbangkan enam kriteria utama, yaitu Akademik, Fasilitas Kampus, Biaya Pendidikan, Peluang Karir, Internasionalisasi, dan Riset/Inovasi."
      ],
      "metadata": {
        "id": "H9JCZ6i6v0a4"
      }
    },
    {
      "cell_type": "code",
      "source": [
        "#matriks perbandingan berpasangan untuk kriteria\n",
        "p_kriteria = np.array([\n",
        "    [1, 3, 7, 5, 4, 6],\n",
        "    [1/3, 1, 5, 3, 2, 4],\n",
        "    [1/7, 1/5, 1, 1/3, 1/2, 1],\n",
        "    [1/5, 1/3, 3, 1, 2, 3],\n",
        "    [1/4, 1/2, 2, 1/2, 1, 2],\n",
        "    [1/6, 1/4, 1, 1/3, 1/2, 1]\n",
        "])"
      ],
      "metadata": {
        "id": "4Xo7GnzAj97N"
      },
      "execution_count": null,
      "outputs": []
    },
    {
      "cell_type": "code",
      "source": [
        "#matriks perbandingan berpasangan untuk setiap kriteria terhadap alternatif-universitas yang dipilih\n",
        "\n",
        "p_alternatif = np.array([\n",
        "    #kriteria akademik\n",
        "    [\n",
        "    [1, 1/2, 3, 2],\n",
        "    [2, 1, 5, 3],\n",
        "    [1/3, 1/5, 1, 1/2],\n",
        "    [1/2, 1/3, 2, 1]\n",
        "    ],\n",
        "\n",
        "    #kriteria fasilitas Kampus\n",
        "    [\n",
        "    [1, 1/3, 5, 3],\n",
        "    [3, 1, 7, 5],\n",
        "    [1/5, 1/7, 1, 1/3],\n",
        "    [1/3, 1/5, 3, 1]\n",
        "    ],\n",
        "\n",
        "    #kriteria biaya pendidikan\n",
        "    [\n",
        "    [1, 5, 1/3, 1/2],\n",
        "    [1/5, 1, 1/7, 1/3],\n",
        "    [3, 7, 1, 2],\n",
        "    [2, 3, 1/2, 1]\n",
        "    ],\n",
        "\n",
        "    #kriteria peluang karir\n",
        "    [\n",
        "    [1, 1/2, 3, 4],\n",
        "    [2, 1, 5, 6],\n",
        "    [1/3, 1/5, 1, 2],\n",
        "    [1/4, 1/6, 1/2, 1]\n",
        "    ],\n",
        "\n",
        "    #kriteria internasionalisasi\n",
        "    [\n",
        "    [1, 2, 1/3, 1/2],\n",
        "    [1/2, 1, 1/5, 1/3],\n",
        "    [3, 5, 1, 2],\n",
        "    [2, 3, 1/2, 1]\n",
        "    ],\n",
        "\n",
        "    #kriteria riset dan inovasi\n",
        "    [\n",
        "    [1, 3, 5, 4],\n",
        "    [1/3, 1, 2, 3],\n",
        "    [1/5, 1/2, 1, 1/2],\n",
        "    [1/4, 1/3, 2, 1]\n",
        "    ]\n",
        "])"
      ],
      "metadata": {
        "id": "ABrS2nhmkJ1c"
      },
      "execution_count": null,
      "outputs": []
    },
    {
      "cell_type": "code",
      "source": [
        "#daftar universitas yang akan dievaluasi\n",
        "universitas = [\"Harvard University\", \"Stanford University\", \"University of Oxford\", \"Yale University\"]"
      ],
      "metadata": {
        "id": "Xo45gefgqXKe"
      },
      "execution_count": null,
      "outputs": []
    },
    {
      "cell_type": "code",
      "source": [
        "#mengecek dimensi matriks\n",
        "print(\"Dimensi p_kriteria:\", p_kriteria.shape)\n",
        "print(\"Dimensi p_alternatif:\", p_alternatif.shape)"
      ],
      "metadata": {
        "colab": {
          "base_uri": "https://localhost:8080/"
        },
        "id": "Wuq6LeeFkfdn",
        "outputId": "53fe587c-38b1-4cec-cdd2-c3e659b4d30b"
      },
      "execution_count": null,
      "outputs": [
        {
          "output_type": "stream",
          "name": "stdout",
          "text": [
            "Dimensi p_kriteria: (6, 6)\n",
            "Dimensi p_alternatif: (6, 4, 4)\n"
          ]
        }
      ]
    },
    {
      "cell_type": "code",
      "source": [
        "#menghitung vektor total untuk semua baris (axis=0)\n",
        "p_total = np.sum(p_kriteria, axis=0)"
      ],
      "metadata": {
        "id": "uavmYDGRlh7P"
      },
      "execution_count": null,
      "outputs": []
    },
    {
      "cell_type": "code",
      "source": [
        "#matriks normalisasi\n",
        "p_prioritas = p_kriteria / p_total"
      ],
      "metadata": {
        "id": "4364abQOlqHB"
      },
      "execution_count": null,
      "outputs": []
    },
    {
      "cell_type": "code",
      "source": [
        "#vektor bobot prioritas\n",
        "p_prioritas_w = np.mean(p_prioritas, axis=1)"
      ],
      "metadata": {
        "id": "zSKjXfWYso-E"
      },
      "execution_count": null,
      "outputs": []
    },
    {
      "cell_type": "code",
      "source": [
        "#perkalian dot untuk menghitung Consistency Measure (CM)\n",
        "p_konsistensi = np.dot(p_kriteria, p_prioritas_w) / p_prioritas_w"
      ],
      "metadata": {
        "id": "sUXfxbz8mJ9y"
      },
      "execution_count": null,
      "outputs": []
    },
    {
      "cell_type": "code",
      "source": [
        "#menghitung nilai Ratio Index (RI), Consistency Index (CI), Consistency Ratio (CR)\n",
        "ratio_index_saaty = np.array([0, 0, 0.58, 0.9, 1.12, 1.24, 1.32, 1.41, 1.45])\n",
        "\n",
        "n = p_kriteria.shape[0]\n",
        "lambda_max = np.mean(p_konsistensi)\n",
        "\n",
        "RI = ratio_index_saaty[n-1]\n",
        "CI = (lambda_max - n) / (n - 1)\n",
        "CR = CI / RI\n",
        "\n",
        "print(CR)"
      ],
      "metadata": {
        "colab": {
          "base_uri": "https://localhost:8080/"
        },
        "id": "qEI434jsmxho",
        "outputId": "3476cb5d-79d2-48d7-9b3e-da08452bfb61"
      },
      "execution_count": null,
      "outputs": [
        {
          "output_type": "stream",
          "name": "stdout",
          "text": [
            "0.029659886239308264\n"
          ]
        }
      ]
    },
    {
      "cell_type": "code",
      "source": [
        "#menentukan konsistensi matriks perbandingan\n",
        "if CR > 0.1:\n",
        "    print(\"Matriks perbandingan berpasangan tidak konsisten.\")\n",
        "    exit()\n",
        "else:\n",
        "    print(\"Matriks perbandingan berpasangan konsisten.\")"
      ],
      "metadata": {
        "colab": {
          "base_uri": "https://localhost:8080/"
        },
        "id": "7VBXb_uxqmqo",
        "outputId": "44019996-7333-4303-86c2-c5bca2f46243"
      },
      "execution_count": null,
      "outputs": [
        {
          "output_type": "stream",
          "name": "stdout",
          "text": [
            "Matriks perbandingan berpasangan konsisten.\n"
          ]
        }
      ]
    },
    {
      "cell_type": "code",
      "source": [
        "#fungsi untuk menghitung bobot alternatif untuk setiap kriteria\n",
        "def get_bobot_alternatif(matrix):\n",
        "    bobot = []\n",
        "    for i in range(matrix.shape[0]):\n",
        "        total = np.sum(matrix[i], axis=1)\n",
        "        normalized = matrix[i] / total[:, None]\n",
        "        bobot.append(np.mean(normalized, axis=0))\n",
        "    return np.array(bobot)"
      ],
      "metadata": {
        "id": "CY6uIbMcn_Gy"
      },
      "execution_count": null,
      "outputs": []
    },
    {
      "cell_type": "code",
      "source": [
        "#menghitung bobot alternatif untuk setiap kriteria\n",
        "bobot_alternatif = get_bobot_alternatif(p_alternatif)"
      ],
      "metadata": {
        "id": "Zg0PIH46qEL5"
      },
      "execution_count": null,
      "outputs": []
    },
    {
      "cell_type": "code",
      "source": [
        "#menghitung skor akhir untuk setiap alternatif universitas\n",
        "final_scores = np.dot(p_prioritas_w, bobot_alternatif)"
      ],
      "metadata": {
        "id": "OZI4bacfqNXz"
      },
      "execution_count": null,
      "outputs": []
    },
    {
      "cell_type": "code",
      "source": [
        "#menampilkan skor akhir\n",
        "for i, score in enumerate(final_scores):\n",
        "    print(f\"{universitas[i]}: {score:.4f}\")"
      ],
      "metadata": {
        "colab": {
          "base_uri": "https://localhost:8080/"
        },
        "id": "IMXCPtwsqP8F",
        "outputId": "f1fa8a2e-f775-44dd-d392-d70a48c1afaa"
      },
      "execution_count": null,
      "outputs": [
        {
          "output_type": "stream",
          "name": "stdout",
          "text": [
            "Harvard University: 0.1536\n",
            "Stanford University: 0.1466\n",
            "University of Oxford: 0.4151\n",
            "Yale University: 0.2847\n"
          ]
        }
      ]
    },
    {
      "cell_type": "code",
      "source": [
        "# Universitas dengan skor tertinggi adalah pilihan terbaik\n",
        "best_university = universitas[np.argmax(final_scores)]\n",
        "print(f\"Universitas terbaik berdasarkan AHP adalah: {best_university}\")"
      ],
      "metadata": {
        "colab": {
          "base_uri": "https://localhost:8080/"
        },
        "id": "sA-sZLg0qd0v",
        "outputId": "4f1b5080-7c25-4973-d30a-821a0efd3dd2"
      },
      "execution_count": null,
      "outputs": [
        {
          "output_type": "stream",
          "name": "stdout",
          "text": [
            "Universitas terbaik berdasarkan AHP adalah: University of Oxford\n"
          ]
        }
      ]
    },
    {
      "cell_type": "markdown",
      "source": [
        "Dari hasil perhitungan menggunakan AHP, Universitas of Oxford memiliki skor akhir tertinggi, menjadikannya pilihan terbaik berdasarkan kriteria yang dipilih. Konsistensi matriks perbandingan dievaluasi untuk memastikan validitas perbandingan dan keakuratan hasil akhir."
      ],
      "metadata": {
        "id": "0hYnyWQHvomF"
      }
    }
  ]
}