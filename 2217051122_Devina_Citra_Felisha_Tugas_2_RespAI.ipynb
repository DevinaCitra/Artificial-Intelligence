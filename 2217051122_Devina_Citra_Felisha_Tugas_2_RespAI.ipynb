{
  "nbformat": 4,
  "nbformat_minor": 0,
  "metadata": {
    "colab": {
      "provenance": [],
      "authorship_tag": "ABX9TyND7uy0us0I2Lf9i0Qd0ZtX"
    },
    "kernelspec": {
      "name": "python3",
      "display_name": "Python 3"
    },
    "language_info": {
      "name": "python"
    }
  },
  "cells": [
    {
      "cell_type": "code",
      "execution_count": null,
      "metadata": {
        "id": "GdvzTx7-2WGx"
      },
      "outputs": [],
      "source": [
        "import numpy as np"
      ]
    },
    {
      "cell_type": "code",
      "source": [
        "# Membership functions\n",
        "def fuzzy_membership(x, a, b, c, d):\n",
        "    if x <= a or x >= d:\n",
        "        return 0.0\n",
        "    elif a < x <= b:\n",
        "        return (x - a) / (b - a)\n",
        "    elif b < x <= c:\n",
        "        return 1.0\n",
        "    elif c < x < d:\n",
        "        return (d - x) / (d - c)\n",
        "    else:\n",
        "        return 0.0"
      ],
      "metadata": {
        "id": "JGR9sYT12ci3"
      },
      "execution_count": null,
      "outputs": []
    },
    {
      "cell_type": "code",
      "source": [
        "def persediaan_sedikit(x):\n",
        "    return fuzzy_membership(x, 0, 0, 20, 40)\n",
        "\n",
        "def persediaan_cukup(x):\n",
        "    return fuzzy_membership(x, 20, 40, 60, 80)\n",
        "\n",
        "def persediaan_banyak(x):\n",
        "    return fuzzy_membership(x, 60, 80, 100, 100)\n",
        "\n",
        "def permintaan_rendah(x):\n",
        "    return fuzzy_membership(x, 0, 0, 20, 40)\n",
        "\n",
        "def permintaan_sedang(x):\n",
        "    return fuzzy_membership(x, 20, 40, 60, 80)\n",
        "\n",
        "def permintaan_tinggi(x):\n",
        "    return fuzzy_membership(x, 60, 80, 100, 100)\n",
        "\n",
        "def produksi_kurang(x):\n",
        "    return fuzzy_membership(x, 0, 0, 25, 50)\n",
        "\n",
        "def produksi_sedang(x):\n",
        "    return fuzzy_membership(x, 25, 50, 50, 75)\n",
        "\n",
        "def produksi_banyak(x):\n",
        "    return fuzzy_membership(x, 50, 75, 100, 100)"
      ],
      "metadata": {
        "id": "ft_ejt7-2fp3"
      },
      "execution_count": null,
      "outputs": []
    },
    {
      "cell_type": "code",
      "source": [
        "# Apply fuzzy rules\n",
        "def apply_rules(persediaan, permintaan):\n",
        "    rules = []\n",
        "\n",
        "    # Rule 1\n",
        "    mu1 = min(persediaan_sedikit(persediaan), permintaan_tinggi(permintaan))\n",
        "    rules.append((mu1, 'banyak'))\n",
        "\n",
        "    # Rule 2\n",
        "    mu2 = min(persediaan_sedikit(persediaan), permintaan_sedang(permintaan))\n",
        "    rules.append((mu2, 'sedang'))\n",
        "\n",
        "    # Rule 3\n",
        "    mu3 = min(persediaan_sedikit(persediaan), permintaan_rendah(permintaan))\n",
        "    rules.append((mu3, 'sedikit'))\n",
        "\n",
        "    # Rule 4\n",
        "    mu4 = min(persediaan_cukup(persediaan), permintaan_tinggi(permintaan))\n",
        "    rules.append((mu4, 'sedang'))\n",
        "\n",
        "    # Rule 5\n",
        "    mu5 = min(persediaan_cukup(persediaan), permintaan_sedang(permintaan))\n",
        "    rules.append((mu5, 'sedang'))\n",
        "\n",
        "    # Rule 6\n",
        "    mu6 = min(persediaan_cukup(persediaan), permintaan_rendah(permintaan))\n",
        "    rules.append((mu6, 'sedikit'))\n",
        "\n",
        "    # Rule 7\n",
        "    mu7 = min(persediaan_banyak(persediaan), permintaan_tinggi(permintaan))\n",
        "    rules.append((mu7, 'sedang'))\n",
        "\n",
        "    # Rule 8\n",
        "    mu8 = min(persediaan_banyak(persediaan), permintaan_sedang(permintaan))\n",
        "    rules.append((mu8, 'sedikit'))\n",
        "\n",
        "    # Rule 9\n",
        "    mu9 = min(persediaan_banyak(persediaan), permintaan_rendah(permintaan))\n",
        "    rules.append((mu9, 'sedikit'))\n",
        "\n",
        "    return rules"
      ],
      "metadata": {
        "id": "tl3PZUAD2kOQ"
      },
      "execution_count": null,
      "outputs": []
    },
    {
      "cell_type": "code",
      "source": [
        "# Defuzzification\n",
        "def defuzzification(rules):\n",
        "    numerator = 0.0\n",
        "    denominator = 0.0\n",
        "\n",
        "    for mu, output in rules:\n",
        "        if output == 'kurang':\n",
        "            value = 25\n",
        "        elif output == 'sedang':\n",
        "            value = 50\n",
        "        elif output == 'banyak':\n",
        "            value = 75\n",
        "        numerator += mu * value\n",
        "        denominator += mu\n",
        "\n",
        "    if denominator == 0:\n",
        "        return 0\n",
        "\n",
        "    return numerator / denominator"
      ],
      "metadata": {
        "id": "p0040Zcs2k9o"
      },
      "execution_count": null,
      "outputs": []
    },
    {
      "cell_type": "code",
      "source": [
        "# Categorize the production value\n",
        "def categorize_production(value):\n",
        "    if value <= 50:\n",
        "        return \"Kurang\"\n",
        "    elif 25 <= value <= 75:\n",
        "        return \"Sedang\"\n",
        "    else:\n",
        "        return \"Banyak\""
      ],
      "metadata": {
        "id": "ot5D4qjK5tww"
      },
      "execution_count": null,
      "outputs": []
    },
    {
      "cell_type": "code",
      "source": [
        "# Main function to calculate production\n",
        "def calculate_production(persediaan, permintaan):\n",
        "    rules = apply_rules(persediaan, permintaan)\n",
        "    crisp_output = defuzzification(rules)\n",
        "    category = categorize_production(crisp_output)\n",
        "    return category, crisp_output"
      ],
      "metadata": {
        "id": "LCUm_46N2nHy"
      },
      "execution_count": null,
      "outputs": []
    },
    {
      "cell_type": "code",
      "source": [
        "# Example usage\n",
        "persediaan = 25\n",
        "permintaan = 98\n",
        "production_category, production_value = calculate_production(persediaan, permintaan)\n",
        "print(f\"{production_value:.2f}\")\n",
        "print(f\"{production_category}\")"
      ],
      "metadata": {
        "colab": {
          "base_uri": "https://localhost:8080/"
        },
        "id": "SRQCtO_o2pfS",
        "outputId": "9d24ccbf-1720-478b-c013-9b47054c4468"
      },
      "execution_count": null,
      "outputs": [
        {
          "output_type": "stream",
          "name": "stdout",
          "text": [
            "68.75\n",
            "Sedang\n"
          ]
        }
      ]
    }
  ]
}